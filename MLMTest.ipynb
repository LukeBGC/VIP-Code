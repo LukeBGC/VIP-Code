{
 "cells": [
  {
   "cell_type": "code",
   "execution_count": 17,
   "metadata": {},
   "outputs": [
    {
     "name": "stdout",
     "output_type": "stream",
     "text": [
      "Improvement from File 1 to File 2 (%):\n",
      " Acc_X    29.607162\n",
      "Acc_Y    32.591104\n",
      "Acc_Z    24.036944\n",
      "Gyr_X    45.553614\n",
      "Gyr_Y    23.518932\n",
      "Gyr_Z    44.472169\n",
      "dtype: float64\n",
      "Improvement from File 2 to File 3 (%):\n",
      " Acc_X   -133.278124\n",
      "Acc_Y   -103.047177\n",
      "Acc_Z    -46.795413\n",
      "Gyr_X   -361.835628\n",
      "Gyr_Y   -857.432722\n",
      "Gyr_Z   -117.686119\n",
      "dtype: float64\n",
      "Overall improvement from File 1 to File 2:33.30%\n",
      "Overall improvement from File 2 to File 3:-270.01%\n"
     ]
    },
    {
     "name": "stderr",
     "output_type": "stream",
     "text": [
      "<>:4: SyntaxWarning: invalid escape sequence '\\D'\n",
      "<>:5: SyntaxWarning: invalid escape sequence '\\D'\n",
      "<>:6: SyntaxWarning: invalid escape sequence '\\D'\n",
      "<>:4: SyntaxWarning: invalid escape sequence '\\D'\n",
      "<>:5: SyntaxWarning: invalid escape sequence '\\D'\n",
      "<>:6: SyntaxWarning: invalid escape sequence '\\D'\n",
      "C:\\Users\\ldavi\\AppData\\Local\\Temp\\ipykernel_34392\\3664953260.py:4: SyntaxWarning: invalid escape sequence '\\D'\n",
      "  file_1 = 'IMU Exported Data\\Drink Task\\Trial 1\\A_D422CD00606D_20240314_113325.csv'\n",
      "C:\\Users\\ldavi\\AppData\\Local\\Temp\\ipykernel_34392\\3664953260.py:5: SyntaxWarning: invalid escape sequence '\\D'\n",
      "  file_2 = 'IMU Exported Data\\Drink Task\\Trial 2\\A_D422CD00606D_20240314_114057.csv'\n",
      "C:\\Users\\ldavi\\AppData\\Local\\Temp\\ipykernel_34392\\3664953260.py:6: SyntaxWarning: invalid escape sequence '\\D'\n",
      "  file_3 = 'IMU Exported Data\\Drink Task\\Trial 3\\A_D422CD00606D_20240314_114443.csv'\n"
     ]
    }
   ],
   "source": [
    "import pandas as pd\n",
    "\n",
    "# Load multiple CSV files\n",
    "file_1 = 'IMU Exported Data\\Drink Task\\Trial 1\\A_D422CD00606D_20240314_113325.csv'\n",
    "file_2 = 'IMU Exported Data\\Drink Task\\Trial 2\\A_D422CD00606D_20240314_114057.csv'\n",
    "file_3 = 'IMU Exported Data\\Drink Task\\Trial 3\\A_D422CD00606D_20240314_114443.csv'\n",
    "\n",
    "# Define a function to load and calculate variance for relevant columns\n",
    "def load_and_process(file_path):\n",
    "    # Load the file\n",
    "    data = pd.read_csv(file_path, skiprows = 7)\n",
    "    \n",
    "    # Extract relevant columns (Acc_X, Acc_Y, Acc_Z, Gyr_X, Gyr_Y, Gyr_Z)\n",
    "    relevant_columns = ['Acc_X', 'Acc_Y', 'Acc_Z', 'Gyr_X', 'Gyr_Y', 'Gyr_Z']\n",
    "    features = data[relevant_columns]\n",
    "    \n",
    "    # Calculate variance (as a measure of smoothness)\n",
    "    variances = features.var()\n",
    "    \n",
    "    return variances\n",
    "\n",
    "# Process each CSV file\n",
    "variances_1 = load_and_process(file_1)  # Baseline\n",
    "variances_2 = load_and_process(file_2)\n",
    "variances_3 = load_and_process(file_3)\n",
    "\n",
    "# Calculate improvement from File 1 (baseline) to File 2 and File 3\n",
    "def calculate_improvement(baseline, current):\n",
    "    improvement = (baseline - current) / baseline * 100\n",
    "    return improvement\n",
    "\n",
    "# Calculate improvement for File 2 and File 3 compared to File 1\n",
    "improvement_2 = calculate_improvement(variances_1, variances_2)\n",
    "improvement_3 = calculate_improvement(variances_2, variances_3)\n",
    "\n",
    "# Print results\n",
    "print(\"Improvement from File 1 to File 2 (%):\\n\", improvement_2)\n",
    "print(\"Improvement from File 2 to File 3 (%):\\n\", improvement_3)\n",
    "\n",
    "# Optionally, calculate overall improvement (mean percentage improvement across all axes)\n",
    "overall_improvement_2 = improvement_2.mean()\n",
    "overall_improvement_3 = improvement_3.mean()\n",
    "\n",
    "print(f\"Overall improvement from File 1 to File 2:{overall_improvement_2:.2f}%\")\n",
    "print(f\"Overall improvement from File 2 to File 3:{overall_improvement_3:.2f}%\")\n"
   ]
  }
 ],
 "metadata": {
  "kernelspec": {
   "display_name": "Python 3",
   "language": "python",
   "name": "python3"
  },
  "language_info": {
   "codemirror_mode": {
    "name": "ipython",
    "version": 3
   },
   "file_extension": ".py",
   "mimetype": "text/x-python",
   "name": "python",
   "nbconvert_exporter": "python",
   "pygments_lexer": "ipython3",
   "version": "3.12.5"
  }
 },
 "nbformat": 4,
 "nbformat_minor": 2
}
